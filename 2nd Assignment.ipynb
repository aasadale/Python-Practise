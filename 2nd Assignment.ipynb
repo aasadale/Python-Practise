{
 "cells": [
  {
   "cell_type": "markdown",
   "metadata": {},
   "source": [
    "## 1. Divisibility Check of two numbers\n",
    "\n",
    "Write a Python program to check whether a number is completely divisible by another number. Accept two integer values form the user\n",
    "##### Program Console Sample Output 1:\n",
    "Enter numerator: 4\n",
    "\n",
    "Enter Denominator: 2\n",
    "\n",
    "Number 4 is Completely divisible by 2\n",
    "###### Program Console Sample Output 2:\n",
    "Enter numerator: 7\n",
    "\n",
    "Enter Denominator: 4\n",
    "\n",
    "Number 7 is not Completely divisible by 4"
   ]
  },
  {
   "cell_type": "code",
   "execution_count": 21,
   "metadata": {},
   "outputs": [
    {
     "name": "stdout",
     "output_type": "stream",
     "text": [
      "Program to check the divisibiltiy of a number!\n",
      "\n",
      "Enter the numerator :4\n",
      "Enter the denominator:2\n",
      "Number 4 is completely divisible by 2\n",
      "Enter the numerator :7\n",
      "Enter the denominator:4\n",
      "Number 7 is not completely divisible by 4\n"
     ]
    }
   ],
   "source": [
    "print(\"Program to check the divisibiltiy of a number!\\n\")\n",
    "for i in range(2):\n",
    "    num=int(input(\"Enter the numerator :\"))\n",
    "    den=int(input(\"Enter the denominator:\"))\n",
    "    if num%den==0:\n",
    "        print(\"Number\",num,\"is completely divisible by\",den)\n",
    "    else:\n",
    "        print(\"Number\",num,\"is not completely divisible by\",den)"
   ]
  },
  {
   "cell_type": "markdown",
   "metadata": {},
   "source": [
    "## 2. Copy string n times\n",
    "Write a Python program to get a string which is n (non-negative integer) copies of a given string.\n",
    "##### Program Console Output:\n",
    "Enter String: Hi\n",
    "\n",
    "How many copies of String you need: 4\n",
    "\n",
    "4 Copies of Hi are HiHiHiHi"
   ]
  },
  {
   "cell_type": "code",
   "execution_count": 19,
   "metadata": {},
   "outputs": [
    {
     "name": "stdout",
     "output_type": "stream",
     "text": [
      "Program to make copies of given string!\n",
      "\n",
      "Enter a string :asad\n",
      "How many copies of string you need :4\n",
      "4 copies of asad are asadasadasadasad\n"
     ]
    }
   ],
   "source": [
    "print(\"Program to make copies of given string!\\n\")\n",
    "string=str(input(\"Enter a string :\"))\n",
    "copy=int(input(\"How many copies of string you need :\"))\n",
    "copies=(string * copy)\n",
    "print(copy,\"copies of\",string,\"are\",copies)"
   ]
  },
  {
   "cell_type": "markdown",
   "metadata": {},
   "source": [
    "## 3. Vowel Tester\n",
    "Write a Python program to test whether a passed letter is a vowel or not\n",
    "#### Program Console Output 1:\n",
    "Enter a character: A\n",
    "\n",
    "Letter A is Vowel\n",
    "#### Program Console Output 2:\n",
    "Enter a character: e\n",
    "\n",
    "Letter e is Vowel\n",
    "#### Program Console Output 2:\n",
    "Enter a character: N\n",
    "Letter N is not Vowel"
   ]
  },
  {
   "cell_type": "code",
   "execution_count": 17,
   "metadata": {},
   "outputs": [
    {
     "name": "stdout",
     "output_type": "stream",
     "text": [
      "Program to check the given character is vowel or not!\n",
      "\n",
      "Enter the character :A\n",
      "Given character is a vowel!\n",
      "Enter the character :e\n",
      "Given character is a vowel!\n",
      "Enter the character :N\n",
      "Give character is not a vowel!\n"
     ]
    }
   ],
   "source": [
    "print(\"Program to check the given character is vowel or not!\\n\")\n",
    "for i in range(3):\n",
    "    a=str(input(\"Enter the character :\"))\n",
    "    b=a.casefold()\n",
    "    if b in \"aeiou\":\n",
    "        print(\"Given character is a vowel!\")\n",
    "    else:\n",
    "        print(\"Give character is not a vowel!\")"
   ]
  },
  {
   "cell_type": "markdown",
   "metadata": {},
   "source": [
    "## 4. Odd No.s\n",
    "Use the third argument of the range() function to make a list of the odd numbers from 1 to 20. Use a for loop to print each number."
   ]
  },
  {
   "cell_type": "code",
   "execution_count": 18,
   "metadata": {},
   "outputs": [
    {
     "name": "stdout",
     "output_type": "stream",
     "text": [
      "Program to check odd no between 1 to 20!\n",
      "\n",
      "[1, 3, 5, 7, 9, 11, 13, 15, 17, 19]\n"
     ]
    }
   ],
   "source": [
    "print(\"Program to check odd no between 1 to 20!\\n\")\n",
    "odd=[]\n",
    "for i in range(1,20,2):\n",
    "    odd.append(i)\n",
    "print(odd)"
   ]
  },
  {
   "cell_type": "markdown",
   "metadata": {},
   "source": [
    "## 5. Food Slicing\n",
    "Make a python program that contains your nine favourite dishes in a list called foods.Print the message, \n",
    "\n",
    "**The first three items in the list are:**\n",
    "\n",
    "Then use a slice to print the first three items from that program’s list.Print the message, \n",
    "\n",
    "**Three items from the middle of the list are:**\n",
    "\n",
    "Use a slice to print three items from the middle of the list.Print the message, \n",
    "\n",
    "**The last three items in the list are:**\n",
    "\n",
    "Use a slice to print the last three items in the list."
   ]
  },
  {
   "cell_type": "code",
   "execution_count": 16,
   "metadata": {},
   "outputs": [
    {
     "name": "stdout",
     "output_type": "stream",
     "text": [
      "Program to print first 3 middle 3 and last three elements using slicing !\n",
      "\n",
      "The first three items in a list of food are : ['biryani', 'lasagnia', 'tikka']\n",
      "The middle three items in a list of food are : ['broast', 'burger', 'zinger']\n",
      "The last three items in a list of food are : ['kofta', 'mutton', 'beef']\n"
     ]
    }
   ],
   "source": [
    "print(\"Program to print first 3 middle 3 and last three elements using slicing !\\n\")\n",
    "food=['biryani','lasagnia','tikka','broast','burger','zinger','kofta','mutton','beef']\n",
    "print(\"The first three items in a list of food are :\",food[0:3])\n",
    "print(\"The middle three items in a list of food are :\",food[3:6])\n",
    "print(\"The last three items in a list of food are :\",food[6:9])"
   ]
  },
  {
   "cell_type": "code",
   "execution_count": null,
   "metadata": {},
   "outputs": [],
   "source": []
  }
 ],
 "metadata": {
  "kernelspec": {
   "display_name": "Python 3",
   "language": "python",
   "name": "python3"
  },
  "language_info": {
   "codemirror_mode": {
    "name": "ipython",
    "version": 3
   },
   "file_extension": ".py",
   "mimetype": "text/x-python",
   "name": "python",
   "nbconvert_exporter": "python",
   "pygments_lexer": "ipython3",
   "version": "3.7.4"
  }
 },
 "nbformat": 4,
 "nbformat_minor": 2
}
